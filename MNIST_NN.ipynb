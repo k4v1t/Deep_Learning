{
 "cells": [
  {
   "cell_type": "code",
   "execution_count": 1,
   "metadata": {},
   "outputs": [],
   "source": [
    "# Import relevant libraries\n",
    "\n",
    "import numpy as np\n",
    "import matplotlib.pyplot\n",
    "%matplotlib inline\n",
    "import time"
   ]
  },
  {
   "cell_type": "code",
   "execution_count": 2,
   "metadata": {},
   "outputs": [],
   "source": [
    "# Create function to convert data into csv file\n",
    "\n",
    "def convert(imgs, labels, outfile, n):\n",
    "\n",
    "    imgf = open(imgs, \"rb\")\n",
    "    labelf = open(labels, \"rb\")\n",
    "    csvf = open(outfile, \"w\")\n",
    "\n",
    "    imgf.read(16)\n",
    "    labelf.read(8)\n",
    "    images = []\n",
    "\n",
    "    for i in range(n):\n",
    "        image = [ord(labelf.read(1))]\n",
    "        for j in range(28*28):\n",
    "            image.append(ord(imgf.read(1)))\n",
    "        images.append(image)\n",
    "\n",
    "    for image in images:\n",
    "        csvf.write(\",\".join(str(pix) for pix in image)+\"\\n\")\n",
    "        \n",
    "    imgf.close()\n",
    "    labelf.close()\n",
    "    csvf.close()"
   ]
  },
  {
   "cell_type": "code",
   "execution_count": 3,
   "metadata": {},
   "outputs": [],
   "source": [
    "# Load in training and testing data\n",
    "\n",
    "mnist_train_x = \"/Users/kavittolia/code/islp/Chapter10/mnist/train-images.idx3-ubyte\"\n",
    "mnist_train_y = \"/Users/kavittolia/code/islp/Chapter10/mnist/train-labels.idx1-ubyte\"\n",
    "mnist_test_x = \"/Users/kavittolia/code/islp/Chapter10/mnist/t10k-images.idx3-ubyte\"\n",
    "mnist_test_y = \"/Users/kavittolia/code/islp/Chapter10/mnist/t10k-labels.idx1-ubyte\""
   ]
  },
  {
   "cell_type": "code",
   "execution_count": 4,
   "metadata": {},
   "outputs": [],
   "source": [
    "# Convert data into csv files\n",
    "\n",
    "convert(mnist_train_x, mnist_train_y, \"/Users/kavittolia/code/islp/Chapter10/mnist/train.csv\", 60000)\n",
    "convert(mnist_test_x, mnist_test_y, \"/Users/kavittolia/code/islp/Chapter10/mnist/test.csv\", 10000)"
   ]
  },
  {
   "cell_type": "code",
   "execution_count": 5,
   "metadata": {},
   "outputs": [
    {
     "name": "stdout",
     "output_type": "stream",
     "text": [
      "60000\n"
     ]
    }
   ],
   "source": [
    "# Check the training data is accurate\n",
    "\n",
    "train_file = open(\"/Users/kavittolia/code/islp/Chapter10/mnist/train.csv\", \"r\")\n",
    "train_list = train_file.readlines()\n",
    "train_file.close()\n",
    "print(len(train_list))"
   ]
  },
  {
   "cell_type": "code",
   "execution_count": 6,
   "metadata": {},
   "outputs": [
    {
     "data": {
      "text/plain": [
       "'3,0,0,0,0,0,0,0,0,0,0,0,0,0,0,0,0,0,0,0,0,0,0,0,0,0,0,0,0,0,0,0,0,0,0,0,0,0,0,0,0,0,0,0,0,0,0,0,0,0,0,0,0,0,0,0,0,0,0,0,0,0,0,0,0,0,0,0,0,0,0,0,0,0,0,0,0,0,0,0,0,0,0,0,0,0,0,0,0,0,0,0,0,0,0,0,0,0,0,0,0,0,0,0,0,0,0,0,0,0,0,0,0,0,0,0,0,0,0,0,0,0,0,0,42,118,219,166,118,118,6,0,0,0,0,0,0,0,0,0,0,0,0,0,0,0,0,0,0,0,0,103,242,254,254,254,254,254,66,0,0,0,0,0,0,0,0,0,0,0,0,0,0,0,0,0,0,0,0,18,232,254,254,254,254,254,238,70,0,0,0,0,0,0,0,0,0,0,0,0,0,0,0,0,0,0,0,0,104,244,254,224,254,254,254,141,0,0,0,0,0,0,0,0,0,0,0,0,0,0,0,0,0,0,0,0,0,207,254,210,254,254,254,34,0,0,0,0,0,0,0,0,0,0,0,0,0,0,0,0,0,0,0,0,0,84,206,254,254,254,254,41,0,0,0,0,0,0,0,0,0,0,0,0,0,0,0,0,0,0,0,0,0,0,24,209,254,254,254,171,0,0,0,0,0,0,0,0,0,0,0,0,0,0,0,0,0,0,0,0,0,91,137,253,254,254,254,112,0,0,0,0,0,0,0,0,0,0,0,0,0,0,0,0,0,0,0,40,214,250,254,254,254,254,254,34,0,0,0,0,0,0,0,0,0,0,0,0,0,0,0,0,0,0,0,81,247,254,254,254,254,254,254,146,0,0,0,0,0,0,0,0,0,0,0,0,0,0,0,0,0,0,0,0,110,246,254,254,254,254,254,171,0,0,0,0,0,0,0,0,0,0,0,0,0,0,0,0,0,0,0,0,0,73,89,89,93,240,254,171,0,0,0,0,0,0,0,0,0,0,0,0,0,0,0,0,0,0,0,0,0,0,0,0,1,128,254,219,31,0,0,0,0,0,0,0,0,0,0,0,0,0,0,0,0,0,0,0,0,0,0,0,7,254,254,214,28,0,0,0,0,0,0,0,0,0,0,0,0,0,0,0,0,0,0,0,0,0,0,0,138,254,254,116,0,0,0,0,0,0,0,0,0,0,0,0,0,0,0,19,177,90,0,0,0,0,0,25,240,254,254,34,0,0,0,0,0,0,0,0,0,0,0,0,0,0,0,164,254,215,63,36,0,51,89,206,254,254,139,8,0,0,0,0,0,0,0,0,0,0,0,0,0,0,0,57,197,254,254,222,180,241,254,254,253,213,11,0,0,0,0,0,0,0,0,0,0,0,0,0,0,0,0,0,140,105,254,254,254,254,254,254,236,0,0,0,0,0,0,0,0,0,0,0,0,0,0,0,0,0,0,0,0,7,117,117,165,254,254,239,50,0,0,0,0,0,0,0,0,0,0,0,0,0,0,0,0,0,0,0,0,0,0,0,0,0,0,0,0,0,0,0,0,0,0,0,0,0,0,0,0,0,0,0,0,0,0,0,0,0,0,0,0,0,0,0,0,0,0,0,0,0,0,0,0,0,0,0,0,0,0,0,0,0,0,0,0,0,0,0,0,0,0,0,0,0,0,0,0,0,0,0,0,0,0,0,0,0,0,0,0,0,0,0,0,0,0,0,0,0,0,0,0,0,0,0,0,0,0,0,0,0,0,0,0\\n'"
      ]
     },
     "execution_count": 6,
     "metadata": {},
     "output_type": "execute_result"
    }
   ],
   "source": [
    "# The output gives you the digit and then the pixel scores\n",
    "\n",
    "train_list[10]"
   ]
  },
  {
   "cell_type": "code",
   "execution_count": 7,
   "metadata": {},
   "outputs": [
    {
     "data": {
      "text/plain": [
       "<matplotlib.image.AxesImage at 0x1188b6310>"
      ]
     },
     "execution_count": 7,
     "metadata": {},
     "output_type": "execute_result"
    },
    {
     "data": {
      "image/png": "[encoded data removed]",
      "text/plain": [
       "<Figure size 640x480 with 1 Axes>"
      ]
     },
     "metadata": {},
     "output_type": "display_data"
    }
   ],
   "source": [
    "# Check the digit image is as expected\n",
    "\n",
    "values = train_list[10].split(\",\")\n",
    "image_array = np.asfarray(values[1:]).reshape(28,28)\n",
    "matplotlib.pyplot.style.use('dark_background')\n",
    "matplotlib.pyplot.imshow(image_array, cmap=\"Greys_r\", interpolation=\"None\")"
   ]
  },
  {
   "cell_type": "code",
   "execution_count": 8,
   "metadata": {},
   "outputs": [
    {
     "name": "stdout",
     "output_type": "stream",
     "text": [
      "10000\n"
     ]
    }
   ],
   "source": [
    "# Check the test data is accurate\n",
    "\n",
    "test_file = open(\"/Users/kavittolia/code/islp/Chapter10/mnist/test.csv\", \"r\")\n",
    "test_list = test_file.readlines()\n",
    "test_file.close()\n",
    "print(len(test_list))"
   ]
  },
  {
   "cell_type": "code",
   "execution_count": 9,
   "metadata": {},
   "outputs": [],
   "source": [
    "# For the neural network, we need 784 inputs and two hidden layers\n",
    "# Hidden layer 1 will have 128 nodes\n",
    "# Hidden layer 2 will have 64 nodes\n",
    "\n",
    "class DNN:\n",
    "\n",
    "    def __init__(self, sizes, epochs, lr):\n",
    "        self.sizes = sizes\n",
    "        self.epochs = epochs\n",
    "        self.learning_rate = lr\n",
    "        input_layer = sizes[0]\n",
    "        hidden_1 = sizes[1]\n",
    "        hidden_2 = sizes[2]\n",
    "        output_layer = sizes[3]\n",
    "        self.params = {\n",
    "            'W1': np.random.randn(hidden_1, input_layer) * np.sqrt(1./hidden_1),       # 128 x 784\n",
    "            'W2': np.random.randn(hidden_2, hidden_1) * np.sqrt(1./hidden_2),          # 64 x 128\n",
    "            'W3': np.random.randn(output_layer, hidden_2) * np.sqrt(1./output_layer)   # 10 x 64\n",
    "        }\n",
    "\n",
    "    def activation_function(self, x, func_type, derivative=False):\n",
    "        if derivative:\n",
    "            if func_type == 'sigmoid':\n",
    "                return (np.exp(-x)) / ((np.exp(-x) + 1) ** 2)\n",
    "            elif func_type == 'tanh':\n",
    "                return 1 - (((np.exp(x) - np.exp(-x)) ** 2) / ((np.exp(x) + np.exp(-x)) ** 2))\n",
    "            elif func_type == 'softmax':\n",
    "                exps = np.exp(x-x.max())\n",
    "                return exps / np.sum(exps, axis=0) * (1 - exps / np.sum(exps, axis=0))\n",
    "            elif func_type == 'relu':\n",
    "                return (x > 0) * 1\n",
    "            else:\n",
    "                print('Unrecognised activation function!')\n",
    "        else:\n",
    "            if func_type == 'sigmoid':\n",
    "                return 1 / (1 + np.exp(-x))\n",
    "            elif func_type == 'tanh':\n",
    "                return (np.exp(x) - np.exp(-x)) / (np.exp(x) + np.exp(-x))\n",
    "            elif func_type == 'softmax':\n",
    "                exps = np.exp(x-x.max())\n",
    "                return exps / np.sum(exps, axis=0)\n",
    "            elif func_type == 'relu':\n",
    "                return np.maximum(0.0, x)\n",
    "            else:\n",
    "                print('Unrecognised activation function!')            \n",
    "\n",
    "    def forward_pass(self, x_train, func_type):\n",
    "        params = self.params\n",
    "        params['A0'] = x_train                              # 784 x 1\n",
    "        # input_layer to hidden_1\n",
    "        params['Z1'] = np.dot(params['W1'], params['A0'])   # 128 x 1\n",
    "        params['A1'] = self.activation_function(params['Z1'], func_type)\n",
    "        # hidden_1 to hidden_2\n",
    "        params['Z2'] = np.dot(params['W2'], params['A1'])   # 64 x 1\n",
    "        params['A2'] = self.activation_function(params['Z2'], func_type)\n",
    "        # hidden_2 to output_layer\n",
    "        params['Z3'] = np.dot(params['W3'], params['A2'])   # 10 x 1\n",
    "        params['A3'] = self.activation_function(params['Z3'], 'softmax')\n",
    "        return params['Z3']\n",
    "\n",
    "    def backward_pass(self, y_train, output, func_type):\n",
    "        params = self.params\n",
    "        change_w = {}\n",
    "        # calculate W3 update\n",
    "        error = 2 * (output - y_train) / output.shape[0] * self.activation_function(params['Z3'], 'softmax', derivative=True)\n",
    "        change_w['W3'] = np.outer(error, params['A2'])\n",
    "        # calculate W2 update\n",
    "        error = np.dot(params['W3'].T, error) * self.activation_function(params['Z2'], func_type, derivative=True)\n",
    "        change_w['W2'] = np.outer(error, params['A1'])\n",
    "        # calculate W1 update\n",
    "        error = np.dot(params['W2'].T, error) * self.activation_function(params['Z1'], func_type, derivative=True)\n",
    "        change_w['W1'] = np.outer(error, params['A0'])\n",
    "        return change_w\n",
    "\n",
    "    def update_weights(self, change_w):\n",
    "        for param_name, gradient in change_w.items():\n",
    "            self.params[param_name] -= self.learning_rate * gradient      # W_t+1 = W_t - lr * Delta_W_t           \n",
    "\n",
    "    def compute_accuracy(self, test_data, func_type):\n",
    "        predictions = []\n",
    "        for x in test_data:\n",
    "            values = x.split(\",\")\n",
    "            inputs = (np.asfarray(values[1:]) / 255.0 * 0.99) + 0.01\n",
    "            targets = np.zeros(10) + 0.01\n",
    "            targets[int(values[0])] = 0.99\n",
    "            output = self.forward_pass(inputs, func_type)\n",
    "            pred = np.argmax(output)\n",
    "            predictions.append(pred==np.argmax(targets))\n",
    "        return np.mean(predictions)\n",
    "    \n",
    "    def predict_image(self, test_image, func_type):\n",
    "        values = test_image.split(\",\")\n",
    "        inputs = (np.asfarray(values[1:]) / 255.0 * 0.99) + 0.01\n",
    "        output = self.forward_pass(inputs, func_type)\n",
    "        return np.argmax(output)\n",
    "\n",
    "    def train(self, train_list, test_list, func_type):\n",
    "        output_data = []\n",
    "        for i in range(self.epochs):\n",
    "            start_time = time.time()\n",
    "            for x in train_list:\n",
    "                values = x.split(\",\")\n",
    "                inputs = (np.asfarray(values[1:]) / 255.0 * 0.99) + 0.01\n",
    "                targets = np.zeros(10) + 0.01\n",
    "                targets[int(values[0])] = 0.99\n",
    "                output = self.forward_pass(inputs, func_type)\n",
    "                change_w = self.backward_pass(targets, output, func_type)\n",
    "                self.update_weights(change_w)\n",
    "            accuracy = self.compute_accuracy(test_list, func_type)\n",
    "            print('Epoch: {0}, Time Spent: {1:.02f}s, Accuracy: {2:.2f}%, Learning Rate: {3}, Activation Function: {4}'.format(i + 1, time.time() - start_time, accuracy * 100, self.learning_rate, func_type))\n",
    "            output_data.append([i + 1, time.time() - start_time, accuracy * 100, self.learning_rate, func_type])\n",
    "        return output_data"
   ]
  },
  {
   "cell_type": "code",
   "execution_count": 10,
   "metadata": {},
   "outputs": [
    {
     "name": "stdout",
     "output_type": "stream",
     "text": [
      "Epoch: 1, Time Spent: 47.12s, Accuracy: 93.91%, Learning Rate: 1, Activation Function: tanh\n",
      "Epoch: 2, Time Spent: 68.69s, Accuracy: 95.41%, Learning Rate: 1, Activation Function: tanh\n",
      "Epoch: 3, Time Spent: 54.26s, Accuracy: 96.02%, Learning Rate: 1, Activation Function: tanh\n",
      "Epoch: 4, Time Spent: 48.89s, Accuracy: 96.42%, Learning Rate: 1, Activation Function: tanh\n",
      "Epoch: 5, Time Spent: 50.26s, Accuracy: 96.53%, Learning Rate: 1, Activation Function: tanh\n",
      "Epoch: 6, Time Spent: 49.89s, Accuracy: 96.53%, Learning Rate: 1, Activation Function: tanh\n",
      "Epoch: 7, Time Spent: 55.42s, Accuracy: 96.52%, Learning Rate: 1, Activation Function: tanh\n",
      "Epoch: 8, Time Spent: 51.57s, Accuracy: 96.32%, Learning Rate: 1, Activation Function: tanh\n",
      "Epoch: 9, Time Spent: 52.34s, Accuracy: 96.72%, Learning Rate: 1, Activation Function: tanh\n",
      "Epoch: 10, Time Spent: 49.72s, Accuracy: 96.75%, Learning Rate: 1, Activation Function: tanh\n"
     ]
    }
   ],
   "source": [
    "dnn = DNN(sizes=[784, 128, 64, 10], epochs=10, lr=1)\n",
    "output_data = dnn.train(train_list, test_list, 'tanh')"
   ]
  },
  {
   "cell_type": "code",
   "execution_count": 11,
   "metadata": {},
   "outputs": [
    {
     "data": {
      "text/plain": [
       "<matplotlib.image.AxesImage at 0x118dbc6d0>"
      ]
     },
     "execution_count": 11,
     "metadata": {},
     "output_type": "execute_result"
    },
    {
     "data": {
      "image/png": "[encoded data removed]",
      "text/plain": [
       "<Figure size 640x480 with 1 Axes>"
      ]
     },
     "metadata": {},
     "output_type": "display_data"
    }
   ],
   "source": [
    "# Test random image\n",
    "idx = 10\n",
    "values = test_list[idx].split(\",\")\n",
    "image_array = np.asfarray(values[1:]).reshape(28,28)\n",
    "matplotlib.pyplot.style.use('dark_background')\n",
    "matplotlib.pyplot.imshow(image_array, cmap=\"Greys_r\", interpolation=\"None\")"
   ]
  },
  {
   "cell_type": "code",
   "execution_count": 12,
   "metadata": {},
   "outputs": [
    {
     "data": {
      "text/plain": [
       "0"
      ]
     },
     "execution_count": 12,
     "metadata": {},
     "output_type": "execute_result"
    }
   ],
   "source": [
    "dnn.predict_image(test_list[idx], 'tanh')"
   ]
  },
  {
   "cell_type": "code",
   "execution_count": 13,
   "metadata": {},
   "outputs": [
    {
     "data": {
      "text/plain": [
       "<matplotlib.image.AxesImage at 0x1190a4810>"
      ]
     },
     "execution_count": 13,
     "metadata": {},
     "output_type": "execute_result"
    },
    {
     "data": {
      "image/png": "[encoded data removed]",
      "text/plain": [
       "<Figure size 640x480 with 1 Axes>"
      ]
     },
     "metadata": {},
     "output_type": "display_data"
    }
   ],
   "source": [
    "# Create gibberish digit\n",
    "rubbish_vector = np.random.randint(0, 256, (785))\n",
    "rubbish_matrix = rubbish_vector[1:].reshape(28,28)\n",
    "matplotlib.pyplot.style.use('dark_background')\n",
    "matplotlib.pyplot.imshow(rubbish_matrix, cmap=\"Greys_r\", interpolation=\"None\")"
   ]
  },
  {
   "cell_type": "code",
   "execution_count": 14,
   "metadata": {},
   "outputs": [
    {
     "data": {
      "text/plain": [
       "8"
      ]
     },
     "execution_count": 14,
     "metadata": {},
     "output_type": "execute_result"
    }
   ],
   "source": [
    "rubbish_str = ','.join(map(str, rubbish_vector)) \n",
    "dnn.predict_image(rubbish_str, 'tanh')"
   ]
  },
  {
   "cell_type": "code",
   "execution_count": null,
   "metadata": {},
   "outputs": [],
   "source": [
    "# Researching how learning rates and activation functions co-behave\n",
    "\n",
    "lr_list = [1, 0.1, 0.01, 0.001]\n",
    "act_func_list = ['sigmoid', 'tanh', 'relu']\n",
    "\n",
    "dnn_list = []\n",
    "output_all = []\n",
    "\n",
    "for lr_iter in lr_list:\n",
    "    dnn = DNN(sizes=[784, 128, 64, 10], epochs=10, lr=lr_iter)\n",
    "    for act_func in act_func_list:\n",
    "        output_all.append(dnn.train(train_list, test_list, act_func))\n",
    "        dnn_list.append(dnn)"
   ]
  },
  {
   "cell_type": "code",
   "execution_count": null,
   "metadata": {},
   "outputs": [],
   "source": [
    "import pandas as pd\n",
    "df = pd.DataFrame(np.concatenate(output_all))\n",
    "df.to_csv(\"output_data.csv\")"
   ]
  },
  {
   "cell_type": "code",
   "execution_count": 15,
   "metadata": {},
   "outputs": [],
   "source": [
    "import pandas as pd\n",
    "df = pd.read_csv(\"output_data.csv\", index_col=0).rename(columns={\"0\": \"epoch\", \"1\": \"time\", \"2\": \"accuracy\", \"3\": \"learning_rate\", \"4\": \"activation\"})"
   ]
  },
  {
   "cell_type": "code",
   "execution_count": 16,
   "metadata": {},
   "outputs": [
    {
     "data": {
      "text/html": [
       "<div>\n",
       "<style scoped>\n",
       "    .dataframe tbody tr th:only-of-type {\n",
       "        vertical-align: middle;\n",
       "    }\n",
       "\n",
       "    .dataframe tbody tr th {\n",
       "        vertical-align: top;\n",
       "    }\n",
       "\n",
       "    .dataframe thead th {\n",
       "        text-align: right;\n",
       "    }\n",
       "</style>\n",
       "<table border=\"1\" class=\"dataframe\">\n",
       "  <thead>\n",
       "    <tr style=\"text-align: right;\">\n",
       "      <th></th>\n",
       "      <th>epoch</th>\n",
       "      <th>time</th>\n",
       "      <th>accuracy</th>\n",
       "      <th>learning_rate</th>\n",
       "      <th>activation</th>\n",
       "    </tr>\n",
       "  </thead>\n",
       "  <tbody>\n",
       "    <tr>\n",
       "      <th>0</th>\n",
       "      <td>1</td>\n",
       "      <td>52.449412</td>\n",
       "      <td>91.97</td>\n",
       "      <td>1.000</td>\n",
       "      <td>sigmoid</td>\n",
       "    </tr>\n",
       "    <tr>\n",
       "      <th>1</th>\n",
       "      <td>2</td>\n",
       "      <td>65.883317</td>\n",
       "      <td>93.72</td>\n",
       "      <td>1.000</td>\n",
       "      <td>sigmoid</td>\n",
       "    </tr>\n",
       "    <tr>\n",
       "      <th>2</th>\n",
       "      <td>3</td>\n",
       "      <td>66.973721</td>\n",
       "      <td>94.51</td>\n",
       "      <td>1.000</td>\n",
       "      <td>sigmoid</td>\n",
       "    </tr>\n",
       "    <tr>\n",
       "      <th>3</th>\n",
       "      <td>4</td>\n",
       "      <td>66.589889</td>\n",
       "      <td>95.22</td>\n",
       "      <td>1.000</td>\n",
       "      <td>sigmoid</td>\n",
       "    </tr>\n",
       "    <tr>\n",
       "      <th>4</th>\n",
       "      <td>5</td>\n",
       "      <td>65.084656</td>\n",
       "      <td>95.76</td>\n",
       "      <td>1.000</td>\n",
       "      <td>sigmoid</td>\n",
       "    </tr>\n",
       "    <tr>\n",
       "      <th>...</th>\n",
       "      <td>...</td>\n",
       "      <td>...</td>\n",
       "      <td>...</td>\n",
       "      <td>...</td>\n",
       "      <td>...</td>\n",
       "    </tr>\n",
       "    <tr>\n",
       "      <th>115</th>\n",
       "      <td>6</td>\n",
       "      <td>42.649174</td>\n",
       "      <td>80.77</td>\n",
       "      <td>0.001</td>\n",
       "      <td>relu</td>\n",
       "    </tr>\n",
       "    <tr>\n",
       "      <th>116</th>\n",
       "      <td>7</td>\n",
       "      <td>42.811359</td>\n",
       "      <td>82.03</td>\n",
       "      <td>0.001</td>\n",
       "      <td>relu</td>\n",
       "    </tr>\n",
       "    <tr>\n",
       "      <th>117</th>\n",
       "      <td>8</td>\n",
       "      <td>42.879764</td>\n",
       "      <td>82.82</td>\n",
       "      <td>0.001</td>\n",
       "      <td>relu</td>\n",
       "    </tr>\n",
       "    <tr>\n",
       "      <th>118</th>\n",
       "      <td>9</td>\n",
       "      <td>42.573473</td>\n",
       "      <td>83.48</td>\n",
       "      <td>0.001</td>\n",
       "      <td>relu</td>\n",
       "    </tr>\n",
       "    <tr>\n",
       "      <th>119</th>\n",
       "      <td>10</td>\n",
       "      <td>42.737379</td>\n",
       "      <td>84.15</td>\n",
       "      <td>0.001</td>\n",
       "      <td>relu</td>\n",
       "    </tr>\n",
       "  </tbody>\n",
       "</table>\n",
       "<p>120 rows × 5 columns</p>\n",
       "</div>"
      ],
      "text/plain": [
       "     epoch       time  accuracy  learning_rate activation\n",
       "0        1  52.449412     91.97          1.000    sigmoid\n",
       "1        2  65.883317     93.72          1.000    sigmoid\n",
       "2        3  66.973721     94.51          1.000    sigmoid\n",
       "3        4  66.589889     95.22          1.000    sigmoid\n",
       "4        5  65.084656     95.76          1.000    sigmoid\n",
       "..     ...        ...       ...            ...        ...\n",
       "115      6  42.649174     80.77          0.001       relu\n",
       "116      7  42.811359     82.03          0.001       relu\n",
       "117      8  42.879764     82.82          0.001       relu\n",
       "118      9  42.573473     83.48          0.001       relu\n",
       "119     10  42.737379     84.15          0.001       relu\n",
       "\n",
       "[120 rows x 5 columns]"
      ]
     },
     "execution_count": 16,
     "metadata": {},
     "output_type": "execute_result"
    }
   ],
   "source": [
    "df"
   ]
  },
  {
   "cell_type": "code",
   "execution_count": 17,
   "metadata": {},
   "outputs": [
    {
     "data": {
      "application/vnd.plotly.v1+json": {
       "config": {
        "plotlyServerURL": "https://plot.ly"
       },
       "data": [
        {
         "hovertemplate": "activation=sigmoid<br>learning_rate=1.0<br>epoch=%{x}<br>accuracy=%{y}<extra></extra>",
         "legendgroup": "sigmoid",
         "line": {
          "color": "#636efa",
          "dash": "solid"
         },
         "marker": {
          "symbol": "circle"
         },
         "mode": "lines",
         "name": "sigmoid",
         "orientation": "v",
         "showlegend": true,
         "type": "scatter",
         "x": [
          1,
          2,
          3,
          4,
          5,
          6,
          7,
          8,
          9,
          10
         ],
         "xaxis": "x3",
         "y": [
          91.97,
          93.72,
          94.51,
          95.22,
          95.76,
          96.05,
          96.36,
          96.51,
          96.69,
          96.84
         ],
         "yaxis": "y3"
        },
        {
         "hovertemplate": "activation=sigmoid<br>learning_rate=0.1<br>epoch=%{x}<br>accuracy=%{y}<extra></extra>",
         "legendgroup": "sigmoid",
         "line": {
          "color": "#636efa",
          "dash": "solid"
         },
         "marker": {
          "symbol": "circle"
         },
         "mode": "lines",
         "name": "sigmoid",
         "orientation": "v",
         "showlegend": false,
         "type": "scatter",
         "x": [
          1,
          2,
          3,
          4,
          5,
          6,
          7,
          8,
          9,
          10
         ],
         "xaxis": "x4",
         "y": [
          85.50999999999999,
          87.89,
          90.03,
          91.34,
          92.02,
          92.65,
          93.14,
          93.54,
          93.92,
          94.1
         ],
         "yaxis": "y4"
        },
        {
         "hovertemplate": "activation=sigmoid<br>learning_rate=0.01<br>epoch=%{x}<br>accuracy=%{y}<extra></extra>",
         "legendgroup": "sigmoid",
         "line": {
          "color": "#636efa",
          "dash": "solid"
         },
         "marker": {
          "symbol": "circle"
         },
         "mode": "lines",
         "name": "sigmoid",
         "orientation": "v",
         "showlegend": false,
         "type": "scatter",
         "x": [
          1,
          2,
          3,
          4,
          5,
          6,
          7,
          8,
          9,
          10
         ],
         "xaxis": "x",
         "y": [
          70.28,
          79.24,
          82.05,
          83.63000000000001,
          84.55,
          85.18,
          85.68,
          86.22999999999999,
          86.59,
          86.79
         ],
         "yaxis": "y"
        },
        {
         "hovertemplate": "activation=sigmoid<br>learning_rate=0.001<br>epoch=%{x}<br>accuracy=%{y}<extra></extra>",
         "legendgroup": "sigmoid",
         "line": {
          "color": "#636efa",
          "dash": "solid"
         },
         "marker": {
          "symbol": "circle"
         },
         "mode": "lines",
         "name": "sigmoid",
         "orientation": "v",
         "showlegend": false,
         "type": "scatter",
         "x": [
          1,
          2,
          3,
          4,
          5,
          6,
          7,
          8,
          9,
          10
         ],
         "xaxis": "x2",
         "y": [
          23.86,
          40.95,
          50.64999999999999,
          56.84,
          61,
          64.64,
          67.07,
          68.78,
          70.55,
          71.85000000000001
         ],
         "yaxis": "y2"
        },
        {
         "hovertemplate": "activation=tanh<br>learning_rate=1.0<br>epoch=%{x}<br>accuracy=%{y}<extra></extra>",
         "legendgroup": "tanh",
         "line": {
          "color": "#EF553B",
          "dash": "solid"
         },
         "marker": {
          "symbol": "circle"
         },
         "mode": "lines",
         "name": "tanh",
         "orientation": "v",
         "showlegend": true,
         "type": "scatter",
         "x": [
          1,
          2,
          3,
          4,
          5,
          6,
          7,
          8,
          9,
          10
         ],
         "xaxis": "x3",
         "y": [
          96.22,
          96.45,
          96.74,
          96.65,
          96.76,
          96.9,
          96.87,
          97.07,
          96.95,
          96.96
         ],
         "yaxis": "y3"
        },
        {
         "hovertemplate": "activation=tanh<br>learning_rate=0.1<br>epoch=%{x}<br>accuracy=%{y}<extra></extra>",
         "legendgroup": "tanh",
         "line": {
          "color": "#EF553B",
          "dash": "solid"
         },
         "marker": {
          "symbol": "circle"
         },
         "mode": "lines",
         "name": "tanh",
         "orientation": "v",
         "showlegend": false,
         "type": "scatter",
         "x": [
          1,
          2,
          3,
          4,
          5,
          6,
          7,
          8,
          9,
          10
         ],
         "xaxis": "x4",
         "y": [
          93.04,
          93.89,
          94.43,
          94.92,
          95.2,
          95.38,
          95.61,
          95.73,
          95.88,
          95.94
         ],
         "yaxis": "y4"
        },
        {
         "hovertemplate": "activation=tanh<br>learning_rate=0.01<br>epoch=%{x}<br>accuracy=%{y}<extra></extra>",
         "legendgroup": "tanh",
         "line": {
          "color": "#EF553B",
          "dash": "solid"
         },
         "marker": {
          "symbol": "circle"
         },
         "mode": "lines",
         "name": "tanh",
         "orientation": "v",
         "showlegend": false,
         "type": "scatter",
         "x": [
          1,
          2,
          3,
          4,
          5,
          6,
          7,
          8,
          9,
          10
         ],
         "xaxis": "x",
         "y": [
          85.76,
          87.98,
          89.18,
          89.94,
          90.49,
          91.01,
          91.52,
          91.83,
          92.02,
          92.33
         ],
         "yaxis": "y"
        },
        {
         "hovertemplate": "activation=tanh<br>learning_rate=0.001<br>epoch=%{x}<br>accuracy=%{y}<extra></extra>",
         "legendgroup": "tanh",
         "line": {
          "color": "#EF553B",
          "dash": "solid"
         },
         "marker": {
          "symbol": "circle"
         },
         "mode": "lines",
         "name": "tanh",
         "orientation": "v",
         "showlegend": false,
         "type": "scatter",
         "x": [
          1,
          2,
          3,
          4,
          5,
          6,
          7,
          8,
          9,
          10
         ],
         "xaxis": "x2",
         "y": [
          55.96,
          66.73,
          71.86,
          75.14,
          77.37,
          78.84,
          80.07,
          81.27,
          82.14,
          82.87
         ],
         "yaxis": "y2"
        },
        {
         "hovertemplate": "activation=relu<br>learning_rate=1.0<br>epoch=%{x}<br>accuracy=%{y}<extra></extra>",
         "legendgroup": "relu",
         "line": {
          "color": "#00cc96",
          "dash": "solid"
         },
         "marker": {
          "symbol": "circle"
         },
         "mode": "lines",
         "name": "relu",
         "orientation": "v",
         "showlegend": true,
         "type": "scatter",
         "x": [
          1,
          2,
          3,
          4,
          5,
          6,
          7,
          8,
          9,
          10
         ],
         "xaxis": "x3",
         "y": [
          9.81,
          9.81,
          9.81,
          9.81,
          9.81,
          9.81,
          9.81,
          9.81,
          9.81,
          9.81
         ],
         "yaxis": "y3"
        },
        {
         "hovertemplate": "activation=relu<br>learning_rate=0.1<br>epoch=%{x}<br>accuracy=%{y}<extra></extra>",
         "legendgroup": "relu",
         "line": {
          "color": "#00cc96",
          "dash": "solid"
         },
         "marker": {
          "symbol": "circle"
         },
         "mode": "lines",
         "name": "relu",
         "orientation": "v",
         "showlegend": false,
         "type": "scatter",
         "x": [
          1,
          2,
          3,
          4,
          5,
          6,
          7,
          8,
          9,
          10
         ],
         "xaxis": "x4",
         "y": [
          84.17999999999999,
          85.69,
          86.22999999999999,
          86.63,
          86.83,
          87,
          87.12,
          87.22999999999999,
          87.32,
          87.42
         ],
         "yaxis": "y4"
        },
        {
         "hovertemplate": "activation=relu<br>learning_rate=0.01<br>epoch=%{x}<br>accuracy=%{y}<extra></extra>",
         "legendgroup": "relu",
         "line": {
          "color": "#00cc96",
          "dash": "solid"
         },
         "marker": {
          "symbol": "circle"
         },
         "mode": "lines",
         "name": "relu",
         "orientation": "v",
         "showlegend": false,
         "type": "scatter",
         "x": [
          1,
          2,
          3,
          4,
          5,
          6,
          7,
          8,
          9,
          10
         ],
         "xaxis": "x",
         "y": [
          86.35000000000001,
          88.56,
          89.32,
          89.77000000000001,
          90.1,
          90.56,
          90.91,
          91.17,
          91.46,
          91.66
         ],
         "yaxis": "y"
        },
        {
         "hovertemplate": "activation=relu<br>learning_rate=0.001<br>epoch=%{x}<br>accuracy=%{y}<extra></extra>",
         "legendgroup": "relu",
         "line": {
          "color": "#00cc96",
          "dash": "solid"
         },
         "marker": {
          "symbol": "circle"
         },
         "mode": "lines",
         "name": "relu",
         "orientation": "v",
         "showlegend": false,
         "type": "scatter",
         "x": [
          1,
          2,
          3,
          4,
          5,
          6,
          7,
          8,
          9,
          10
         ],
         "xaxis": "x2",
         "y": [
          60.38,
          68.8,
          73.39,
          76.79,
          78.95,
          80.77,
          82.03,
          82.82000000000001,
          83.48,
          84.15
         ],
         "yaxis": "y2"
        }
       ],
       "layout": {
        "annotations": [
         {
          "font": {},
          "showarrow": false,
          "text": "learning_rate=0.01",
          "x": 0.245,
          "xanchor": "center",
          "xref": "paper",
          "y": 0.46499999999999997,
          "yanchor": "bottom",
          "yref": "paper"
         },
         {
          "font": {},
          "showarrow": false,
          "text": "learning_rate=0.001",
          "x": 0.755,
          "xanchor": "center",
          "xref": "paper",
          "y": 0.46499999999999997,
          "yanchor": "bottom",
          "yref": "paper"
         },
         {
          "font": {},
          "showarrow": false,
          "text": "learning_rate=1.0",
          "x": 0.245,
          "xanchor": "center",
          "xref": "paper",
          "y": 0.9999999999999999,
          "yanchor": "bottom",
          "yref": "paper"
         },
         {
          "font": {},
          "showarrow": false,
          "text": "learning_rate=0.1",
          "x": 0.755,
          "xanchor": "center",
          "xref": "paper",
          "y": 0.9999999999999999,
          "yanchor": "bottom",
          "yref": "paper"
         }
        ],
        "height": 600,
        "legend": {
         "title": {
          "text": "activation"
         },
         "tracegroupgap": 0
        },
        "margin": {
         "t": 60
        },
        "template": {
         "data": {
          "bar": [
           {
            "error_x": {
             "color": "#2a3f5f"
            },
            "error_y": {
             "color": "#2a3f5f"
            },
            "marker": {
             "line": {
              "color": "#E5ECF6",
              "width": 0.5
             },
             "pattern": {
              "fillmode": "overlay",
              "size": 10,
              "solidity": 0.2
             }
            },
            "type": "bar"
           }
          ],
          "barpolar": [
           {
            "marker": {
             "line": {
              "color": "#E5ECF6",
              "width": 0.5
             },
             "pattern": {
              "fillmode": "overlay",
              "size": 10,
              "solidity": 0.2
             }
            },
            "type": "barpolar"
           }
          ],
          "carpet": [
           {
            "aaxis": {
             "endlinecolor": "#2a3f5f",
             "gridcolor": "white",
             "linecolor": "white",
             "minorgridcolor": "white",
             "startlinecolor": "#2a3f5f"
            },
            "baxis": {
             "endlinecolor": "#2a3f5f",
             "gridcolor": "white",
             "linecolor": "white",
             "minorgridcolor": "white",
             "startlinecolor": "#2a3f5f"
            },
            "type": "carpet"
           }
          ],
          "choropleth": [
           {
            "colorbar": {
             "outlinewidth": 0,
             "ticks": ""
            },
            "type": "choropleth"
           }
          ],
          "contour": [
           {
            "colorbar": {
             "outlinewidth": 0,
             "ticks": ""
            },
            "colorscale": [
             [
              0,
              "#0d0887"
             ],
             [
              0.1111111111111111,
              "#46039f"
             ],
             [
              0.2222222222222222,
              "#7201a8"
             ],
             [
              0.3333333333333333,
              "#9c179e"
             ],
             [
              0.4444444444444444,
              "#bd3786"
             ],
             [
              0.5555555555555556,
              "#d8576b"
             ],
             [
              0.6666666666666666,
              "#ed7953"
             ],
             [
              0.7777777777777778,
              "#fb9f3a"
             ],
             [
              0.8888888888888888,
              "#fdca26"
             ],
             [
              1,
              "#f0f921"
             ]
            ],
            "type": "contour"
           }
          ],
          "contourcarpet": [
           {
            "colorbar": {
             "outlinewidth": 0,
             "ticks": ""
            },
            "type": "contourcarpet"
           }
          ],
          "heatmap": [
           {
            "colorbar": {
             "outlinewidth": 0,
             "ticks": ""
            },
            "colorscale": [
             [
              0,
              "#0d0887"
             ],
             [
              0.1111111111111111,
              "#46039f"
             ],
             [
              0.2222222222222222,
              "#7201a8"
             ],
             [
              0.3333333333333333,
              "#9c179e"
             ],
             [
              0.4444444444444444,
              "#bd3786"
             ],
             [
              0.5555555555555556,
              "#d8576b"
             ],
             [
              0.6666666666666666,
              "#ed7953"
             ],
             [
              0.7777777777777778,
              "#fb9f3a"
             ],
             [
              0.8888888888888888,
              "#fdca26"
             ],
             [
              1,
              "#f0f921"
             ]
            ],
            "type": "heatmap"
           }
          ],
          "heatmapgl": [
           {
            "colorbar": {
             "outlinewidth": 0,
             "ticks": ""
            },
            "colorscale": [
             [
              0,
              "#0d0887"
             ],
             [
              0.1111111111111111,
              "#46039f"
             ],
             [
              0.2222222222222222,
              "#7201a8"
             ],
             [
              0.3333333333333333,
              "#9c179e"
             ],
             [
              0.4444444444444444,
              "#bd3786"
             ],
             [
              0.5555555555555556,
              "#d8576b"
             ],
             [
              0.6666666666666666,
              "#ed7953"
             ],
             [
              0.7777777777777778,
              "#fb9f3a"
             ],
             [
              0.8888888888888888,
              "#fdca26"
             ],
             [
              1,
              "#f0f921"
             ]
            ],
            "type": "heatmapgl"
           }
          ],
          "histogram": [
           {
            "marker": {
             "pattern": {
              "fillmode": "overlay",
              "size": 10,
              "solidity": 0.2
             }
            },
            "type": "histogram"
           }
          ],
          "histogram2d": [
           {
            "colorbar": {
             "outlinewidth": 0,
             "ticks": ""
            },
            "colorscale": [
             [
              0,
              "#0d0887"
             ],
             [
              0.1111111111111111,
              "#46039f"
             ],
             [
              0.2222222222222222,
              "#7201a8"
             ],
             [
              0.3333333333333333,
              "#9c179e"
             ],
             [
              0.4444444444444444,
              "#bd3786"
             ],
             [
              0.5555555555555556,
              "#d8576b"
             ],
             [
              0.6666666666666666,
              "#ed7953"
             ],
             [
              0.7777777777777778,
              "#fb9f3a"
             ],
             [
              0.8888888888888888,
              "#fdca26"
             ],
             [
              1,
              "#f0f921"
             ]
            ],
            "type": "histogram2d"
           }
          ],
          "histogram2dcontour": [
           {
            "colorbar": {
             "outlinewidth": 0,
             "ticks": ""
            },
            "colorscale": [
             [
              0,
              "#0d0887"
             ],
             [
              0.1111111111111111,
              "#46039f"
             ],
             [
              0.2222222222222222,
              "#7201a8"
             ],
             [
              0.3333333333333333,
              "#9c179e"
             ],
             [
              0.4444444444444444,
              "#bd3786"
             ],
             [
              0.5555555555555556,
              "#d8576b"
             ],
             [
              0.6666666666666666,
              "#ed7953"
             ],
             [
              0.7777777777777778,
              "#fb9f3a"
             ],
             [
              0.8888888888888888,
              "#fdca26"
             ],
             [
              1,
              "#f0f921"
             ]
            ],
            "type": "histogram2dcontour"
           }
          ],
          "mesh3d": [
           {
            "colorbar": {
             "outlinewidth": 0,
             "ticks": ""
            },
            "type": "mesh3d"
           }
          ],
          "parcoords": [
           {
            "line": {
             "colorbar": {
              "outlinewidth": 0,
              "ticks": ""
             }
            },
            "type": "parcoords"
           }
          ],
          "pie": [
           {
            "automargin": true,
            "type": "pie"
           }
          ],
          "scatter": [
           {
            "fillpattern": {
             "fillmode": "overlay",
             "size": 10,
             "solidity": 0.2
            },
            "type": "scatter"
           }
          ],
          "scatter3d": [
           {
            "line": {
             "colorbar": {
              "outlinewidth": 0,
              "ticks": ""
             }
            },
            "marker": {
             "colorbar": {
              "outlinewidth": 0,
              "ticks": ""
             }
            },
            "type": "scatter3d"
           }
          ],
          "scattercarpet": [
           {
            "marker": {
             "colorbar": {
              "outlinewidth": 0,
              "ticks": ""
             }
            },
            "type": "scattercarpet"
           }
          ],
          "scattergeo": [
           {
            "marker": {
             "colorbar": {
              "outlinewidth": 0,
              "ticks": ""
             }
            },
            "type": "scattergeo"
           }
          ],
          "scattergl": [
           {
            "marker": {
             "colorbar": {
              "outlinewidth": 0,
              "ticks": ""
             }
            },
            "type": "scattergl"
           }
          ],
          "scattermapbox": [
           {
            "marker": {
             "colorbar": {
              "outlinewidth": 0,
              "ticks": ""
             }
            },
            "type": "scattermapbox"
           }
          ],
          "scatterpolar": [
           {
            "marker": {
             "colorbar": {
              "outlinewidth": 0,
              "ticks": ""
             }
            },
            "type": "scatterpolar"
           }
          ],
          "scatterpolargl": [
           {
            "marker": {
             "colorbar": {
              "outlinewidth": 0,
              "ticks": ""
             }
            },
            "type": "scatterpolargl"
           }
          ],
          "scatterternary": [
           {
            "marker": {
             "colorbar": {
              "outlinewidth": 0,
              "ticks": ""
             }
            },
            "type": "scatterternary"
           }
          ],
          "surface": [
           {
            "colorbar": {
             "outlinewidth": 0,
             "ticks": ""
            },
            "colorscale": [
             [
              0,
              "#0d0887"
             ],
             [
              0.1111111111111111,
              "#46039f"
             ],
             [
              0.2222222222222222,
              "#7201a8"
             ],
             [
              0.3333333333333333,
              "#9c179e"
             ],
             [
              0.4444444444444444,
              "#bd3786"
             ],
             [
              0.5555555555555556,
              "#d8576b"
             ],
             [
              0.6666666666666666,
              "#ed7953"
             ],
             [
              0.7777777777777778,
              "#fb9f3a"
             ],
             [
              0.8888888888888888,
              "#fdca26"
             ],
             [
              1,
              "#f0f921"
             ]
            ],
            "type": "surface"
           }
          ],
          "table": [
           {
            "cells": {
             "fill": {
              "color": "#EBF0F8"
             },
             "line": {
              "color": "white"
             }
            },
            "header": {
             "fill": {
              "color": "#C8D4E3"
             },
             "line": {
              "color": "white"
             }
            },
            "type": "table"
           }
          ]
         },
         "layout": {
          "annotationdefaults": {
           "arrowcolor": "#2a3f5f",
           "arrowhead": 0,
           "arrowwidth": 1
          },
          "autotypenumbers": "strict",
          "coloraxis": {
           "colorbar": {
            "outlinewidth": 0,
            "ticks": ""
           }
          },
          "colorscale": {
           "diverging": [
            [
             0,
             "#8e0152"
            ],
            [
             0.1,
             "#c51b7d"
            ],
            [
             0.2,
             "#de77ae"
            ],
            [
             0.3,
             "#f1b6da"
            ],
            [
             0.4,
             "#fde0ef"
            ],
            [
             0.5,
             "#f7f7f7"
            ],
            [
             0.6,
             "#e6f5d0"
            ],
            [
             0.7,
             "#b8e186"
            ],
            [
             0.8,
             "#7fbc41"
            ],
            [
             0.9,
             "#4d9221"
            ],
            [
             1,
             "#276419"
            ]
           ],
           "sequential": [
            [
             0,
             "#0d0887"
            ],
            [
             0.1111111111111111,
             "#46039f"
            ],
            [
             0.2222222222222222,
             "#7201a8"
            ],
            [
             0.3333333333333333,
             "#9c179e"
            ],
            [
             0.4444444444444444,
             "#bd3786"
            ],
            [
             0.5555555555555556,
             "#d8576b"
            ],
            [
             0.6666666666666666,
             "#ed7953"
            ],
            [
             0.7777777777777778,
             "#fb9f3a"
            ],
            [
             0.8888888888888888,
             "#fdca26"
            ],
            [
             1,
             "#f0f921"
            ]
           ],
           "sequentialminus": [
            [
             0,
             "#0d0887"
            ],
            [
             0.1111111111111111,
             "#46039f"
            ],
            [
             0.2222222222222222,
             "#7201a8"
            ],
            [
             0.3333333333333333,
             "#9c179e"
            ],
            [
             0.4444444444444444,
             "#bd3786"
            ],
            [
             0.5555555555555556,
             "#d8576b"
            ],
            [
             0.6666666666666666,
             "#ed7953"
            ],
            [
             0.7777777777777778,
             "#fb9f3a"
            ],
            [
             0.8888888888888888,
             "#fdca26"
            ],
            [
             1,
             "#f0f921"
            ]
           ]
          },
          "colorway": [
           "#636efa",
           "#EF553B",
           "#00cc96",
           "#ab63fa",
           "#FFA15A",
           "#19d3f3",
           "#FF6692",
           "#B6E880",
           "#FF97FF",
           "#FECB52"
          ],
          "font": {
           "color": "#2a3f5f"
          },
          "geo": {
           "bgcolor": "white",
           "lakecolor": "white",
           "landcolor": "#E5ECF6",
           "showlakes": true,
           "showland": true,
           "subunitcolor": "white"
          },
          "hoverlabel": {
           "align": "left"
          },
          "hovermode": "closest",
          "mapbox": {
           "style": "light"
          },
          "paper_bgcolor": "white",
          "plot_bgcolor": "#E5ECF6",
          "polar": {
           "angularaxis": {
            "gridcolor": "white",
            "linecolor": "white",
            "ticks": ""
           },
           "bgcolor": "#E5ECF6",
           "radialaxis": {
            "gridcolor": "white",
            "linecolor": "white",
            "ticks": ""
           }
          },
          "scene": {
           "xaxis": {
            "backgroundcolor": "#E5ECF6",
            "gridcolor": "white",
            "gridwidth": 2,
            "linecolor": "white",
            "showbackground": true,
            "ticks": "",
            "zerolinecolor": "white"
           },
           "yaxis": {
            "backgroundcolor": "#E5ECF6",
            "gridcolor": "white",
            "gridwidth": 2,
            "linecolor": "white",
            "showbackground": true,
            "ticks": "",
            "zerolinecolor": "white"
           },
           "zaxis": {
            "backgroundcolor": "#E5ECF6",
            "gridcolor": "white",
            "gridwidth": 2,
            "linecolor": "white",
            "showbackground": true,
            "ticks": "",
            "zerolinecolor": "white"
           }
          },
          "shapedefaults": {
           "line": {
            "color": "#2a3f5f"
           }
          },
          "ternary": {
           "aaxis": {
            "gridcolor": "white",
            "linecolor": "white",
            "ticks": ""
           },
           "baxis": {
            "gridcolor": "white",
            "linecolor": "white",
            "ticks": ""
           },
           "bgcolor": "#E5ECF6",
           "caxis": {
            "gridcolor": "white",
            "linecolor": "white",
            "ticks": ""
           }
          },
          "title": {
           "x": 0.05
          },
          "xaxis": {
           "automargin": true,
           "gridcolor": "white",
           "linecolor": "white",
           "ticks": "",
           "title": {
            "standoff": 15
           },
           "zerolinecolor": "white",
           "zerolinewidth": 2
          },
          "yaxis": {
           "automargin": true,
           "gridcolor": "white",
           "linecolor": "white",
           "ticks": "",
           "title": {
            "standoff": 15
           },
           "zerolinecolor": "white",
           "zerolinewidth": 2
          }
         }
        },
        "xaxis": {
         "anchor": "y",
         "domain": [
          0,
          0.49
         ],
         "title": {
          "text": "epoch"
         }
        },
        "xaxis2": {
         "anchor": "y2",
         "domain": [
          0.51,
          1
         ],
         "matches": "x",
         "title": {
          "text": "epoch"
         }
        },
        "xaxis3": {
         "anchor": "y3",
         "domain": [
          0,
          0.49
         ],
         "matches": "x",
         "showticklabels": false
        },
        "xaxis4": {
         "anchor": "y4",
         "domain": [
          0.51,
          1
         ],
         "matches": "x",
         "showticklabels": false
        },
        "yaxis": {
         "anchor": "x",
         "domain": [
          0,
          0.46499999999999997
         ],
         "title": {
          "text": "accuracy"
         },
         "type": "log"
        },
        "yaxis2": {
         "anchor": "x2",
         "domain": [
          0,
          0.46499999999999997
         ],
         "showticklabels": false,
         "type": "log"
        },
        "yaxis3": {
         "anchor": "x3",
         "domain": [
          0.5349999999999999,
          0.9999999999999999
         ],
         "title": {
          "text": "accuracy"
         },
         "type": "log"
        },
        "yaxis4": {
         "anchor": "x4",
         "domain": [
          0.5349999999999999,
          0.9999999999999999
         ],
         "showticklabels": false,
         "type": "log"
        }
       }
      }
     },
     "metadata": {},
     "output_type": "display_data"
    }
   ],
   "source": [
    "import plotly.express as px\n",
    "\n",
    "px.line(\n",
    "    df,\n",
    "    x=\"epoch\",\n",
    "    y=\"accuracy\",\n",
    "    color=\"activation\",\n",
    "    facet_col=\"learning_rate\",\n",
    "    facet_col_wrap=2,\n",
    "    height=600,\n",
    "    log_y=True,\n",
    ").update_yaxes(matches=None)\n"
   ]
  }
 ],
 "metadata": {
  "kernelspec": {
   "display_name": "islp",
   "language": "python",
   "name": "python3"
  },
  "language_info": {
   "codemirror_mode": {
    "name": "ipython",
    "version": 3
   },
   "file_extension": ".py",
   "mimetype": "text/x-python",
   "name": "python",
   "nbconvert_exporter": "python",
   "pygments_lexer": "ipython3",
   "version": "3.11.10"
  }
 },
 "nbformat": 4,
 "nbformat_minor": 2
}
